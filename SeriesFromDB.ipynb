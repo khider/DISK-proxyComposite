{
 "cells": [
  {
   "cell_type": "markdown",
   "id": "065ba260-caf3-4ac6-8351-f9c2e8183dfc",
   "metadata": {},
   "source": [
    "# Loading a Pyleoclim Series object from a query in the DB"
   ]
  },
  {
   "cell_type": "code",
   "execution_count": 17,
   "id": "7c46dbdb-b647-463b-8ebd-ca28a5faf030",
   "metadata": {},
   "outputs": [],
   "source": [
    "import json\n",
    "import requests\n",
    "import pandas as pd\n",
    "import io\n",
    "import ast\n",
    "import pyleoclim as pyleo\n",
    "import numpy as np"
   ]
  },
  {
   "cell_type": "markdown",
   "id": "78b90280-4333-47c2-91c8-01f52dc8a4a9",
   "metadata": {},
   "source": [
    "## Query the DB\n",
    "\n",
    "All it needs is the TSid. Let's use an example from the PALMOD compilation since it will have several \"ages\""
   ]
  },
  {
   "cell_type": "code",
   "execution_count": 4,
   "id": "58ba6a68-ce1f-4468-b4e5-36d7cd1c35e5",
   "metadata": {},
   "outputs": [
    {
     "data": {
      "text/html": [
       "<div>\n",
       "<style scoped>\n",
       "    .dataframe tbody tr th:only-of-type {\n",
       "        vertical-align: middle;\n",
       "    }\n",
       "\n",
       "    .dataframe tbody tr th {\n",
       "        vertical-align: top;\n",
       "    }\n",
       "\n",
       "    .dataframe thead th {\n",
       "        text-align: right;\n",
       "    }\n",
       "</style>\n",
       "<table border=\"1\" class=\"dataframe\">\n",
       "  <thead>\n",
       "    <tr style=\"text-align: right;\">\n",
       "      <th></th>\n",
       "      <th>val</th>\n",
       "      <th>timeval</th>\n",
       "      <th>timeunits</th>\n",
       "      <th>varname</th>\n",
       "      <th>varunits</th>\n",
       "      <th>timevarname</th>\n",
       "    </tr>\n",
       "  </thead>\n",
       "  <tbody>\n",
       "    <tr>\n",
       "      <th>0</th>\n",
       "      <td>[0.492, 0.436, 0.613, 0.556, 0.342, 0.283, 0.4...</td>\n",
       "      <td>[9.59489990234375, 9.65643834781647, 9.7120714...</td>\n",
       "      <td>ka BP</td>\n",
       "      <td>planktonic.d18O</td>\n",
       "      <td>permil PDB</td>\n",
       "      <td>age</td>\n",
       "    </tr>\n",
       "    <tr>\n",
       "      <th>1</th>\n",
       "      <td>[0.492, 0.436, 0.613, 0.556, 0.342, 0.283, 0.4...</td>\n",
       "      <td>[9.01430985915493, 9.14687323943662, 9.2794366...</td>\n",
       "      <td>ka BP</td>\n",
       "      <td>planktonic.d18O</td>\n",
       "      <td>permil PDB</td>\n",
       "      <td>age</td>\n",
       "    </tr>\n",
       "  </tbody>\n",
       "</table>\n",
       "</div>"
      ],
      "text/plain": [
       "                                                 val  \\\n",
       "0  [0.492, 0.436, 0.613, 0.556, 0.342, 0.283, 0.4...   \n",
       "1  [0.492, 0.436, 0.613, 0.556, 0.342, 0.283, 0.4...   \n",
       "\n",
       "                                             timeval timeunits  \\\n",
       "0  [9.59489990234375, 9.65643834781647, 9.7120714...     ka BP   \n",
       "1  [9.01430985915493, 9.14687323943662, 9.2794366...     ka BP   \n",
       "\n",
       "           varname    varunits timevarname  \n",
       "0  planktonic.d18O  permil PDB         age  \n",
       "1  planktonic.d18O  permil PDB         age  "
      ]
     },
     "execution_count": 4,
     "metadata": {},
     "output_type": "execute_result"
    }
   ],
   "source": [
    "tsid = 'Re72aSIYsvS'\n",
    "\n",
    "url = 'https://linkedearth.graphdb.mint.isi.edu/repositories/LiPDVerse'\n",
    "\n",
    "\n",
    "\n",
    "query = \"\"\"PREFIX le: <http://linked.earth/ontology#>\n",
    "select ?val ?timeval ?timeunits ?varname ?varunits ?timevarname where { \n",
    "    VALUES ?timevarname {\"year\" \"age\"}\n",
    "    ?ds  le:includesPaleoData ?data .\n",
    "\t?data le:foundInMeasurementTable ?table .\n",
    "\t?table le:includesVariable ?var .\n",
    "    ?var le:hasVariableID '\"\"\"+tsid+\"\"\"'.\n",
    "    ?var le:hasValues ?val .\n",
    "    OPTIONAL{?var le:name ?varname .} \n",
    "    OPTIONAL{?var le:hasUnits ?varunits .}\n",
    "    ?table le:includesVariable ?timevar .\n",
    "\t?timevar le:name ?timevarname .\n",
    "    ?timevar le:hasValues ?timeval .\n",
    "    OPTIONAL{?timevar le:hasUnits ?timeunits .}\n",
    "}\"\"\"\n",
    "\n",
    "response = requests.post(url, data = {'query': query})\n",
    "\n",
    "data = io.StringIO(response.text)\n",
    "df = pd.read_csv(data, sep=\",\")\n",
    "\n",
    "df['val']=df['val'].apply(lambda row : json.loads(row) if isinstance(row, str) else row)\n",
    "df['timeval']=df['timeval'].apply(lambda row : json.loads(row) if isinstance(row, str) else row)\n",
    "\n",
    "df"
   ]
  },
  {
   "cell_type": "code",
   "execution_count": 21,
   "id": "0a484d4d-c3c2-4c71-b998-020bd9fe4e87",
   "metadata": {},
   "outputs": [],
   "source": [
    "counter=0\n",
    "for idx,row in df.iterrows():\n",
    "    if type(row['val'])!=list:\n",
    "        raise ValueError('Need y values to create a pyleoclim Series')\n",
    "    else:\n",
    "        value = row['val']\n",
    "    if type(row['timeval'])!=list:\n",
    "        raise ValueError('Need x values to create a pyleoclim Series')\n",
    "    else:\n",
    "        time = row['timeval']\n",
    "    time_name=row['timevarname']\n",
    "    if type(row['varname'])==str:\n",
    "        value_name = row['varname']\n",
    "    else:\n",
    "        value_name=None\n",
    "    if type(row['varunits'])==str:\n",
    "        value_unit = row['varunits']\n",
    "    else:\n",
    "        value_unit=None\n",
    "    if type(row['timeunits'])==str:\n",
    "        time_unit = row['timeunits']\n",
    "    else:\n",
    "        time_unit=None\n",
    "    \n",
    "    ts = pyleo.Series(time=time,value=value, time_name=time_name, value_name=value_name, time_unit=time_unit,value_unit=value_unit)\n",
    "    pyleo.utils.jsonutils.PyleoObj_to_json(ts.copy(),'outputTS_'+str(counter)) \n",
    "    counter+=1\n",
    "    "
   ]
  }
 ],
 "metadata": {
  "kernelspec": {
   "display_name": "Python 3 (ipykernel)",
   "language": "python",
   "name": "python3"
  },
  "language_info": {
   "codemirror_mode": {
    "name": "ipython",
    "version": 3
   },
   "file_extension": ".py",
   "mimetype": "text/x-python",
   "name": "python",
   "nbconvert_exporter": "python",
   "pygments_lexer": "ipython3",
   "version": "3.9.13"
  }
 },
 "nbformat": 4,
 "nbformat_minor": 5
}
