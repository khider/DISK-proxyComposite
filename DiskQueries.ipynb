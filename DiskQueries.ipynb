{
 "cells": [
  {
   "cell_type": "markdown",
   "id": "5aad3302",
   "metadata": {},
   "source": [
    "# ClimateDISK example query and processing"
   ]
  },
  {
   "cell_type": "code",
   "execution_count": 2,
   "id": "609db00e",
   "metadata": {},
   "outputs": [],
   "source": [
    "import numpy as np\n",
    "import pyleoclim as pyleo"
   ]
  },
  {
   "cell_type": "markdown",
   "id": "da1948cb",
   "metadata": {},
   "source": [
    "## Identifying potential datasets\n",
    "\n",
    "The queries are based primarily on identifying:\n",
    "- Dataset\n",
    "- Regions\n",
    "\n",
    "For the first one, it might be easy to direct them to [wiki.linked.earth](wiki.linked.earth) and keep track of the links. For the second, geospatial query with lat/lon (altitude is not necessary for query)\n",
    "\n",
    "Example:"
   ]
  },
  {
   "cell_type": "code",
   "execution_count": 7,
   "id": "918ec8ab",
   "metadata": {},
   "outputs": [
    {
     "name": "stdout",
     "output_type": "stream",
     "text": [
      "http://wiki.linked.earth/Special:URIResolver/MD982181.Khider.2014\n",
      "http://wiki.linked.earth/Special:URIResolver/MD01-2D2378.Xu.2008\n",
      "http://wiki.linked.earth/Special:URIResolver/MD98-2D2165.Levi.2007\n",
      "http://wiki.linked.earth/Special:URIResolver/MD05-2D2904.Steinke.2011\n",
      "http://wiki.linked.earth/Special:URIResolver/MD01-2D2390.Steinke.2008\n",
      "http://wiki.linked.earth/Special:URIResolver/BJ8-2D03-2D70GGC.Linsley.2010\n",
      "http://wiki.linked.earth/Special:URIResolver/BJ8-2D03-2D13GGC.Linsley.2010\n",
      "http://wiki.linked.earth/Special:URIResolver/A7.Oppo.2005\n",
      "http://wiki.linked.earth/Special:URIResolver/MD97-2D2141.Rosentha.2003\n",
      "http://wiki.linked.earth/Special:URIResolver/GIK17940-2D2.Pelejero.1999\n"
     ]
    }
   ],
   "source": [
    "res = pyleo.utils.lipdutils.queryLinkedEarth(lat=[-30,30],lon=[100,160],ageUnits=[\"yr BP\"], ageBound=[0,10000], ageBoundType=['any'],download_lipd=False)"
   ]
  },
  {
   "cell_type": "markdown",
   "id": "46e5c500",
   "metadata": {},
   "source": [
    "Next step is to understand which variables can be of interest. Because we do not have a standard vocabulary, we have different names for the same quantify. Let's first identify which are available to us:\n",
    "\n",
    "### ProxyObservationType"
   ]
  },
  {
   "cell_type": "code",
   "execution_count": 9,
   "id": "ef4e45d6",
   "metadata": {},
   "outputs": [
    {
     "name": "stdout",
     "output_type": "stream",
     "text": [
      "The following proxy observation types are available on the wiki: \n",
      "RBar\n",
      "SampleCount\n",
      "D18O\n",
      "EPS\n",
      "F\n",
      "Floral\n",
      "Radiocarbon\n",
      "X-rayFluorescence\n",
      "DD\n",
      "C\n",
      "N\n",
      "P\n",
      "Si\n",
      "TEX86\n",
      "Uk37\n",
      "Uk37Prime\n",
      "Density\n",
      "DiffuseSpectralReflectance\n",
      "D13C\n",
      "Age\n",
      "JulianDay\n",
      "Al/Ca\n",
      "B/Ca\n",
      "Ba/Ca\n",
      "Mg/Ca\n",
      "Mn/Ca\n",
      "Sr/Ca\n",
      "Zn/Ca\n",
      "Trsgi\n",
      "TRW\n",
      "ARS\n",
      "Segment\n",
      "Depth bottom\n",
      "230Th/232Th\n",
      "Core\n",
      "Tephra\n",
      "D18o\n",
      "Dust\n",
      "Julianday\n",
      "Chloride\n",
      "Sulfate\n",
      "Nitrate\n",
      "Depth\n",
      "Lower95\n",
      "RingWidth\n",
      "Residual\n",
      "Corrs\n",
      "SD\n",
      "SE\n",
      "MXD\n",
      "Notes\n",
      "Mg Ca\n",
      "Thickness\n",
      "Depth top\n",
      "Uk37prime\n",
      "Upper95\n",
      "GhostMeasured\n",
      "BlueIntensity\n",
      "Reflectance\n",
      "Year old\n",
      "Na\n",
      "DeltaDensity\n",
      "VarveThickness\n",
      "Sr Ca\n",
      "Reconstructed\n",
      "AgeMin\n",
      "AgeMax\n",
      "SampleID\n",
      "R650 700\n",
      "R570 630\n",
      "R660 670\n",
      "RABD660 670\n",
      "WaterContent\n",
      "C N\n",
      "BSi\n",
      "EffectiveMoisture\n",
      "Pollen\n",
      "Precipitation\n",
      "Unnamed\n",
      "Decay constants used\n",
      "CalcificationRate\n",
      "Calcification1\n",
      "Calcification2\n",
      "Calcification3\n",
      "Composite\n",
      "Calcification4\n",
      "Notes1\n",
      "Calcification5\n",
      "Calcification\n",
      "Corrected age unceratainty\n",
      "Fe\n",
      "Calcification6\n",
      "Calcification7\n",
      "Trsgi1\n",
      "Trsgi2\n",
      "Trsgi3\n",
      "Trsgi4\n",
      "IceAccumulation\n",
      "Cl\n",
      "Ammonium\n",
      "K\n",
      "Mg\n",
      "Ca\n",
      "Duration\n",
      "Hindex\n",
      "VarveProperty\n",
      "X radiograph dark layer\n",
      "D18O1\n",
      "SedAccumulation\n",
      "Massacum\n",
      "Melt\n",
      "SampleDensity\n",
      "AlkenoneAbundance\n",
      "BIT\n",
      "238U\n",
      "232Th\n",
      "D234U\n",
      "230Th/238U\n",
      "230Th Age uncorrected\n",
      "230Th Age corrected\n",
      "D234U initial\n",
      "Distance\n",
      "TotalOrganicCarbon\n",
      "CDGT\n",
      "C/N\n",
      "CaCO3\n",
      "PollenCount\n",
      "DryBulkDensity\n",
      "37:3AlkenoneConcentration\n",
      "37:2AlkenoneConcentration\n",
      "AlkenoneConcentration\n",
      "Min sample\n",
      "Max sample\n",
      "Age uncertainty\n",
      "Is date used original model\n",
      "238U content\n",
      "238U uncertainty\n",
      "232Th content\n",
      "232Th uncertainty\n",
      "230Th 232Th ratio\n",
      "230Th 232Th ratio uncertainty\n",
      "230Th 238U activity\n",
      "230Th 238U activity uncertainty\n",
      "Corrected age\n",
      "Modern reference\n",
      "Al\n",
      "S\n",
      "Ti\n",
      "Mn\n",
      "Rb\n",
      "Sr\n",
      "Zr\n",
      "Ag\n",
      "Sn\n",
      "Te\n",
      "Ba\n",
      "NumberOfObservations\n",
      "Diffuse spectral reflectance\n",
      "Total Organic Carbon\n",
      "BSiO2\n",
      "CalciumCarbonate\n",
      "WetBulkDensity\n",
      "Weight\n"
     ]
    }
   ],
   "source": [
    "res = pyleo.utils.lipdutils.whatProxyObservations(print_response=True)"
   ]
  },
  {
   "cell_type": "markdown",
   "id": "797f76df",
   "metadata": {},
   "source": [
    "Clean up spreadsheet: https://docs.google.com/spreadsheets/d/1iFB49BfDVx64rqyL7j_HMCtsI6VqlEZlG_HSLCxCwa0/edit?usp=sharing\n",
    "\n",
    "### InferredVariableType"
   ]
  },
  {
   "cell_type": "code",
   "execution_count": 3,
   "id": "535ae71f",
   "metadata": {},
   "outputs": [
    {
     "name": "stdout",
     "output_type": "stream",
     "text": [
      "The following Inferred Variable types are available on the wiki: \n",
      "*Temperature\n",
      "*D18O\n",
      "*Salinity\n",
      "*Age\n",
      "*Year\n",
      "*Sea Surface Temperature\n",
      "*D18o\n",
      "*Uncertainty temperature\n",
      "*Temperature1\n",
      "*SampleData\n",
      "*Subsurface temperature\n",
      "*Temperature2\n",
      "*Temperature3\n",
      "*Uncertainty temperature1\n",
      "*Thermocline Temperature\n",
      "*Sedimentation Rate\n",
      "*Relative Sea Level\n",
      "*Sea Surface Salinity\n",
      "*Radiocarbon Age\n",
      "*Subsurface Temperature\n",
      "*Accumulation rate\n",
      "*Carbonate Ion Concentration\n",
      "*Mean Accumulation Rate\n",
      "*Accumulation rate, total organic carbon\n",
      "*Accumulation rate, calcium carbonate\n"
     ]
    }
   ],
   "source": [
    "res = pyleo.utils.lipdutils.whatInferredVariables(print_response=True)"
   ]
  },
  {
   "cell_type": "markdown",
   "id": "19b53c40",
   "metadata": {},
   "source": [
    "Clean up spreadsheet: https://docs.google.com/spreadsheets/d/1E8fCzsrdQQbCp5WnG99Kh0JThSaV2hMOQRjfsvoMlu0/edit?usp=sharing"
   ]
  },
  {
   "cell_type": "markdown",
   "id": "34c23bf4",
   "metadata": {},
   "source": [
    "What DISK would have to send to autoTS: The Lipd file itself. The actual name of the variable (not the label) and whether it's a proxyObs or an inferredVar. "
   ]
  },
  {
   "cell_type": "code",
   "execution_count": null,
   "id": "b44a91d4",
   "metadata": {},
   "outputs": [],
   "source": []
  }
 ],
 "metadata": {
  "kernelspec": {
   "display_name": "Python 3 (ipykernel)",
   "language": "python",
   "name": "python3"
  },
  "language_info": {
   "codemirror_mode": {
    "name": "ipython",
    "version": 3
   },
   "file_extension": ".py",
   "mimetype": "text/x-python",
   "name": "python",
   "nbconvert_exporter": "python",
   "pygments_lexer": "ipython3",
   "version": "3.9.6"
  }
 },
 "nbformat": 4,
 "nbformat_minor": 5
}
