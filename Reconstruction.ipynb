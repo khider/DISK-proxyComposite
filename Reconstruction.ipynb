{
 "cells": [
  {
   "cell_type": "markdown",
   "id": "4763b488-f516-4b0e-8607-b1788f182bf5",
   "metadata": {},
   "source": [
    "# Climate reconstrutcions with CFR\n",
    "\n",
    "Here let's use a basic workflow making use of LMR."
   ]
  },
  {
   "cell_type": "code",
   "execution_count": 1,
   "id": "61380f28-eeaa-400a-a86e-fe579a3ba965",
   "metadata": {},
   "outputs": [],
   "source": [
    "import json\n",
    "import requests\n",
    "import pandas as pd\n",
    "import io\n",
    "import numpy as np\n",
    "import cfr as cfr"
   ]
  },
  {
   "cell_type": "markdown",
   "id": "01c33d1c-dc54-42a1-92a9-bbba4ed5479d",
   "metadata": {},
   "source": [
    "## Create a reconstruction object"
   ]
  },
  {
   "cell_type": "code",
   "execution_count": 2,
   "id": "a72ee963-b3fa-4244-814e-b733773b2d78",
   "metadata": {},
   "outputs": [
    {
     "name": "stdout",
     "output_type": "stream",
     "text": [
      "\u001b[1m\u001b[36m>>> job.configs:\u001b[0m\n",
      "{}\n"
     ]
    }
   ],
   "source": [
    "job = cfr.ReconJob(verbose=True)"
   ]
  },
  {
   "cell_type": "markdown",
   "id": "a64fa614-6a61-409b-bc69-6a3e3f83a0c9",
   "metadata": {},
   "source": [
    "## Load a proxy database"
   ]
  },
  {
   "cell_type": "code",
   "execution_count": null,
   "id": "ebe2f22b-51af-47b7-9829-e0ca91e69381",
   "metadata": {},
   "outputs": [],
   "source": []
  }
 ],
 "metadata": {
  "kernelspec": {
   "display_name": "Python 3 (ipykernel)",
   "language": "python",
   "name": "python3"
  },
  "language_info": {
   "codemirror_mode": {
    "name": "ipython",
    "version": 3
   },
   "file_extension": ".py",
   "mimetype": "text/x-python",
   "name": "python",
   "nbconvert_exporter": "python",
   "pygments_lexer": "ipython3",
   "version": "3.9.13"
  }
 },
 "nbformat": 4,
 "nbformat_minor": 5
}
